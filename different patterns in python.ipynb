{
 "cells": [
  {
   "cell_type": "code",
   "execution_count": 16,
   "metadata": {},
   "outputs": [
    {
     "name": "stdout",
     "output_type": "stream",
     "text": [
      "\n",
      "* \n",
      "* * \n",
      "* * * \n",
      "* * * * \n",
      "* * * * * \n",
      "* * * * \n",
      "* * * \n",
      "* * \n",
      "* \n"
     ]
    }
   ],
   "source": [
    "n=5\n",
    "for i in range(n):\n",
    "    for j in range(i):\n",
    "        print(\"* \", end=\"\")\n",
    "    print('')\n",
    "\n",
    #converting this into a while loop will help you for much more understanding
    "for i in range(n,0,-1):\n",
    "    for j in range(i):\n",
    "        print(\"* \", end=\"\")\n",
    "    print('')    \n"
   ]
  },
  {
   "cell_type": "code",
   "execution_count": 32,
   "metadata": {},
   "outputs": [
    {
     "name": "stdout",
     "output_type": "stream",
     "text": [
      " ** ** \n",
      "*  *  *\n",
      "*     *\n",
      " *   * \n",
      "  * *  \n",
      "   *   \n"
     ]
    }
   ],
   "source": [
    "# print LOVE symbol\n",
    "for row in range(6):\n",
    "    for col in range(7):\n",
    "        if (row==0 and col%3!=0) or (row==1 and col%3==0) or (row-col==2) or (row+col==8):\n",
    "            print(\"*\",end=\"\")\n",
    "        else:\n",
    "            print(end=\" \")           \n",
    "    print()   "
   ]
  },
  {
   "cell_type": "code",
   "execution_count": 32,
   "metadata": {},
   "outputs": [
    {
     "name": "stdout",
     "output_type": "stream",
     "text": [
      " ***** \n",
      "*     *\n",
      "*     *\n",
      "*******\n",
      "*     *\n",
      "*     *\n",
      "*     *\n"
     ]
    }
   ],
   "source": [
    "# print A symbol\n",
    "for row in range(7):\n",
    "    for col in range(7):\n",
    "        if ((col==0 or col==6) and row!=0) or ((row==0 or row==3) and (col>0 and col<6)):\n",
    "            print(\"*\",end=\"\")\n",
    "        else:\n",
    "            print(end=\" \")           \n",
    "    print()   \n",
    "          "
   ]
  },
  {
   "cell_type": "code",
   "execution_count": 31,
   "metadata": {},
   "outputs": [
    {
     "name": "stdout",
     "output_type": "stream",
     "text": [
      "****** \n",
      "*     *\n",
      "*     *\n",
      "****** \n",
      "*     *\n",
      "*     *\n",
      "****** \n"
     ]
    }
   ],
   "source": [
    "# print B symbol\n",
    "for row in range(7):\n",
    "    for col in range(7):\n",
    "        if (col==0)or (col==6 and row!=0 and row!=3 and row!=6) or ((row==0 or row==3 or row==6) and (col>0 and col<6)):\n",
    "        #if (col==0 or col==4) or ((row==0 or row==3 or row==6) and (col>0 and col<4)):\n",
    "            print(\"*\",end=\"\")\n",
    "        else:\n",
    "            print(end=\" \")           \n",
    "    print()   \n"
   ]
  },
  {
   "cell_type": "code",
   "execution_count": 30,
   "metadata": {},
   "outputs": [
    {
     "name": "stdout",
     "output_type": "stream",
     "text": [
      " ******\n",
      "*      \n",
      "*      \n",
      "*      \n",
      "*      \n",
      "*      \n",
      " ******\n"
     ]
    }
   ],
   "source": [
    "#print C symbol\n",
    "for row in range(7):\n",
    "    for col in range(7):\n",
    "        if (col==0 and (row!=0 and row!=6)) or  ((row==0 or row==6) and (col>0)):\n",
    "        #if (col==0) or  ((row==0 or row==6) and (col>0)):\n",
    "            print(\"*\",end=\"\")\n",
    "        else:\n",
    "            print(end=\" \")           \n",
    "    print()  "
   ]
  },
  {
   "cell_type": "code",
   "execution_count": 29,
   "metadata": {},
   "outputs": [
    {
     "name": "stdout",
     "output_type": "stream",
     "text": [
      "****** \n",
      "*     *\n",
      "*     *\n",
      "*     *\n",
      "*     *\n",
      "*     *\n",
      "****** \n"
     ]
    }
   ],
   "source": [
    "#print D symbol\n",
    "for row in range(7):\n",
    "    for col in range(7):\n",
    "        if (col==0) or (col==6 and (row!=0 and row!=6)) or (row==0 or row==6) and (col>0 and col<6):\n",
    "            print(\"*\",end=\"\")\n",
    "        else:\n",
    "            print(end=\" \")           \n",
    "    print()  "
   ]
  },
  {
   "cell_type": "code",
   "execution_count": 28,
   "metadata": {},
   "outputs": [
    {
     "name": "stdout",
     "output_type": "stream",
     "text": [
      "*******\n",
      "*      \n",
      "*      \n",
      "*******\n",
      "*      \n",
      "*      \n",
      "*******\n"
     ]
    }
   ],
   "source": [
    "#print E symbol\n",
    "for row in range(7):\n",
    "    for col in range(7):\n",
    "        if (col==0) or ((row==0 or row==3 or row==6) and (col>0)):\n",
    "            print(\"*\",end=\"\")\n",
    "        else:\n",
    "            print(end=\" \")           \n",
    "    print()  "
   ]
  },
  {
   "cell_type": "code",
   "execution_count": 27,
   "metadata": {},
   "outputs": [
    {
     "name": "stdout",
     "output_type": "stream",
     "text": [
      "*******\n",
      "*      \n",
      "*      \n",
      "*******\n",
      "*      \n",
      "*      \n",
      "*      \n"
     ]
    }
   ],
   "source": [
    "#print F symbol\n",
    "for row in range(7):\n",
    "    for col in range(7):\n",
    "        if (col==0) or ((row==0 or row==3) and (col>0)):\n",
    "            print(\"*\",end=\"\")\n",
    "        else:\n",
    "            print(end=\" \")           \n",
    "    print()  "
   ]
  },
  {
   "cell_type": "code",
   "execution_count": 26,
   "metadata": {},
   "outputs": [
    {
     "name": "stdout",
     "output_type": "stream",
     "text": [
      " ******\n",
      "*      \n",
      "*      \n",
      "* *****\n",
      "*     *\n",
      "*     *\n",
      " ******\n"
     ]
    }
   ],
   "source": [
    "#print G symbol\n",
    "for row in range(7):\n",
    "    for col in range(7):\n",
    "        if (col==0 and (row!=0 and row!=6)) or ((row==0 or (row==3 and col!=1) or row==6) and (col>0)) or (col==6 and (row!=1 and row!=2)):\n",
    "            print(\"*\",end=\"\")\n",
    "        else:\n",
    "            print(end=\" \")           \n",
    "    print()  "
   ]
  },
  {
   "cell_type": "code",
   "execution_count": 25,
   "metadata": {},
   "outputs": [
    {
     "name": "stdout",
     "output_type": "stream",
     "text": [
      "*     *\n",
      "*     *\n",
      "*     *\n",
      "*******\n",
      "*     *\n",
      "*     *\n",
      "*     *\n"
     ]
    }
   ],
   "source": [
    "#print H symbol\n",
    "for row in range(7):\n",
    "    for col in range(7):\n",
    "        if ((col==0 or col==6) or (row==3 and (col>0 and col<6))):\n",
    "            print(\"*\",end=\"\")\n",
    "        else:\n",
    "            print(end=\" \")           \n",
    "    print()  "
   ]
  },
  {
   "cell_type": "code",
   "execution_count": 23,
   "metadata": {},
   "outputs": [
    {
     "name": "stdout",
     "output_type": "stream",
     "text": [
      "*******\n",
      "   *   \n",
      "   *   \n",
      "   *   \n",
      "   *   \n",
      "   *   \n",
      "*******\n"
     ]
    }
   ],
   "source": [
    "#print I symbol\n",
    "for row in range(7):\n",
    "    for col in range(7):\n",
    "        if (row==0 or row==6) or (col==3 and (row!=0 and row!=6)):\n",
    "            print(\"*\",end=\"\")\n",
    "        else:\n",
    "            print(end=\" \")           \n",
    "    print()  "
   ]
  },
  {
   "cell_type": "code",
   "execution_count": 21,
   "metadata": {},
   "outputs": [
    {
     "name": "stdout",
     "output_type": "stream",
     "text": [
      "*******\n",
      "   *   \n",
      "   *   \n",
      "   *   \n",
      "   *   \n",
      "*  *   \n",
      "****   \n"
     ]
    }
   ],
   "source": [
    "#print J symbol\n",
    "for row in range(7):\n",
    "    for col in range(7):\n",
    "        if (col==3 or (col==0 and row>4)) or (row==0 and col!=3) or (row==6 and col<=2):\n",
    "            print(\"*\",end=\"\")\n",
    "        else:\n",
    "            print(end=\" \")           \n",
    "    print()  "
   ]
  },
  {
   "cell_type": "code",
   "execution_count": 17,
   "metadata": {},
   "outputs": [
    {
     "name": "stdout",
     "output_type": "stream",
     "text": [
      "*   *\n",
      "*  * \n",
      "* *  \n",
      "**   \n",
      "* *  \n",
      "*  * \n",
      "*   *\n"
     ]
    }
   ],
   "source": [
    "#print K symbol\n",
    "for row in range(7):\n",
    "    for col in range(5):\n",
    "        if  (col==0) or (row+col==4) or (row-col==2):\n",
    "            print(\"*\",end=\"\")\n",
    "        else:\n",
    "            print(end=\" \")           \n",
    "    print()  "
   ]
  },
  {
   "cell_type": "code",
   "execution_count": 14,
   "metadata": {},
   "outputs": [
    {
     "name": "stdout",
     "output_type": "stream",
     "text": [
      "*      \n",
      "*      \n",
      "*      \n",
      "*      \n",
      "*      \n",
      "*      \n",
      "*******\n"
     ]
    }
   ],
   "source": [
    "#print L symbol\n",
    "for row in range(7):\n",
    "    for col in range(7):\n",
    "        if (col==0) or (row==6 and col!=0):\n",
    "            print(\"*\",end=\"\")\n",
    "        else:\n",
    "            print(end=\" \")           \n",
    "    print()  "
   ]
  },
  {
   "cell_type": "code",
   "execution_count": 3,
   "metadata": {},
   "outputs": [
    {
     "name": "stdout",
     "output_type": "stream",
     "text": [
      "*     *\n",
      "**    *\n",
      "* * * *\n",
      "*  *  *\n",
      "*     *\n",
      "*     *\n",
      "*     *\n"
     ]
    }
   ],
   "source": [
    "#print M symbol\n",
    "for row in range(7):\n",
    "    for col in range(7):\n",
    "        if (col==0 or col==6) or ((row==col) and (col>0 and col<4)) or (row==2 and col==4):\n",
    "            print(\"*\",end=\"\")\n",
    "        else:\n",
    "            print(end=\" \")           \n",
    "    print()  "
   ]
  },
  {
   "cell_type": "code",
   "execution_count": 8,
   "metadata": {},
   "outputs": [
    {
     "name": "stdout",
     "output_type": "stream",
     "text": [
      "*     *\n",
      "**    *\n",
      "* *   *\n",
      "*  *  *\n",
      "*   * *\n",
      "*    **\n",
      "*     *\n"
     ]
    }
   ],
   "source": [
    "#print N symbol\n",
    "for row in range(7):\n",
    "    for col in range(7):\n",
    "        if (col==0 or col==6) or ((row==col) and (col>0 and col<6)):\n",
    "            print(\"*\",end=\"\")\n",
    "        else:\n",
    "            print(end=\" \")           \n",
    "    print()  "
   ]
  },
  {
   "cell_type": "code",
   "execution_count": 27,
   "metadata": {},
   "outputs": [
    {
     "name": "stdout",
     "output_type": "stream",
     "text": [
      " ***** \n",
      "*     *\n",
      "*     *\n",
      "*     *\n",
      "*     *\n",
      "*     *\n",
      " ***** \n"
     ]
    }
   ],
   "source": [
    "#print O symbol\n",
    "for row in range(7):\n",
    "    for col in range(7):\n",
    "        if ((col==0 or col==6) and (row!=0 and row!=6)) or ((row==0 or row==6) and (col>0 and col<6)):\n",
    "            print(\"*\",end=\"\")\n",
    "        else:\n",
    "            print(end=\" \")           \n",
    "    print()  "
   ]
  },
  {
   "cell_type": "code",
   "execution_count": 39,
   "metadata": {},
   "outputs": [
    {
     "name": "stdout",
     "output_type": "stream",
     "text": [
      "****** \n",
      "*     *\n",
      "*     *\n",
      "****** \n",
      "*      \n",
      "*      \n",
      "*      \n"
     ]
    }
   ],
   "source": [
    "#print P symbol\n",
    "for row in range(7):\n",
    "    for col in range(7):\n",
    "        if (col==0) or ((row==0  or row==3) and (col>0 and col<6)) or (col==6 and (row==1 or row==2)):\n",
    "            print(\"*\",end=\"\")\n",
    "        else:\n",
    "            print(end=\" \")           \n",
    "    print()  "
   ]
  },
  {
   "cell_type": "code",
   "execution_count": 63,
   "metadata": {},
   "outputs": [
    {
     "name": "stdout",
     "output_type": "stream",
     "text": [
      " ***** \n",
      "*     *\n",
      "*     *\n",
      "*     *\n",
      "*     *\n",
      "* *   *\n",
      " ***** \n",
      "    * *\n"
     ]
    }
   ],
   "source": [
    "#print Q symbol\n",
    "for row in range(8):\n",
    "    for col in range(7):\n",
    "        if (((col==0 and row!=7) or col==6) and (row!=0 and row!=6)) or ((row==0 or row==6) and (col>0 and col<6)) or (row==5 and col==2) or (col==4 and row==7):\n",
    "            print(\"*\",end=\"\")\n",
    "        else:\n",
    "            print(end=\" \")           \n",
    "    print()  "
   ]
  },
  {
   "cell_type": "code",
   "execution_count": 67,
   "metadata": {},
   "outputs": [
    {
     "name": "stdout",
     "output_type": "stream",
     "text": [
      "****** \n",
      "*     *\n",
      "*     *\n",
      "****** \n",
      "*     *\n",
      "*     *\n",
      "*     *\n"
     ]
    }
   ],
   "source": [
    "# print R symbol\n",
    "for row in range(7):\n",
    "    for col in range(7):\n",
    "        if (col==0)or (col==6 and row!=0 and row!=3 ) or ((row==0 or row==3 ) and (col>0 and col<6)):\n",
    "        #if (col==0 or col==4) or ((row==0 or row==3 or row==6) and (col>0 and col<4)):\n",
    "            print(\"*\",end=\"\")\n",
    "        else:\n",
    "            print(end=\" \")           \n",
    "    print()   "
   ]
  },
  {
   "cell_type": "code",
   "execution_count": 33,
   "metadata": {},
   "outputs": [
    {
     "name": "stdout",
     "output_type": "stream",
     "text": [
      " ******\n",
      "*      \n",
      "*      \n",
      " ***** \n",
      "      *\n",
      "      *\n",
      "****** \n"
     ]
    }
   ],
   "source": [
    "#print S symbol\n",
    "for row in range(7):\n",
    "    for col in range(7):\n",
    "        if (row==0 and col!=0) or (row==3 and (col!=0 and col!=6)) or (row==6 and col!=6) or (col==0 and (row>0 and row<3)) or (col==6 and (row>3 and row<6)):\n",
    "            print(\"*\",end=\"\")\n",
    "        else:\n",
    "            print(end=\" \")           \n",
    "    print()  "
   ]
  },
  {
   "cell_type": "code",
   "execution_count": 35,
   "metadata": {},
   "outputs": [
    {
     "name": "stdout",
     "output_type": "stream",
     "text": [
      "*******\n",
      "   *   \n",
      "   *   \n",
      "   *   \n",
      "   *   \n",
      "   *   \n",
      "   *   \n"
     ]
    }
   ],
   "source": [
    "#print T symbol\n",
    "for row in range(7):\n",
    "    for col in range(7):\n",
    "        if (col==3 or row==0):\n",
    "            print(\"*\",end=\"\")\n",
    "        else:\n",
    "            print(end=\" \")           \n",
    "    print()  "
   ]
  },
  {
   "cell_type": "code",
   "execution_count": 44,
   "metadata": {},
   "outputs": [
    {
     "name": "stdout",
     "output_type": "stream",
     "text": [
      "*     *\n",
      "*     *\n",
      "*     *\n",
      "*     *\n",
      "*     *\n",
      "*     *\n",
      " ***** \n"
     ]
    }
   ],
   "source": [
    "#print U symbol\n",
    "for row in range(7):\n",
    "    for col in range(7):\n",
    "        if ((col==0 or col==6) and row!=6) or (row==6 and (col!=0 and col!=6)):\n",
    "            print(\"*\",end=\"\")\n",
    "        else:\n",
    "            print(end=\" \")           \n",
    "    print()  "
   ]
  },
  {
   "cell_type": "code",
   "execution_count": 49,
   "metadata": {},
   "outputs": [
    {
     "name": "stdout",
     "output_type": "stream",
     "text": [
      "*     *\n",
      "*     *\n",
      "*     *\n",
      "*     *\n",
      " *   * \n",
      "  * *  \n",
      "   *   \n"
     ]
    }
   ],
   "source": [
    "#print V symbol\n",
    "for row in range(7):\n",
    "    for col in range(7):\n",
    "        if ((col==0 or col==6) and (row<4)) or (row-col==3) or (row+col==9):\n",
    "            print(\"*\",end=\"\")\n",
    "        else:\n",
    "            print(end=\" \")           \n",
    "    print()  "
   ]
  },
  {
   "cell_type": "code",
   "execution_count": 55,
   "metadata": {},
   "outputs": [
    {
     "name": "stdout",
     "output_type": "stream",
     "text": [
      "*     *\n",
      "*     *\n",
      "*     *\n",
      "*  *  *\n",
      "* * * *\n",
      "**   **\n",
      "*     *\n"
     ]
    }
   ],
   "source": [
    "#print W symbol\n",
    "for row in range(7):\n",
    "    for col in range(7):\n",
    "        if  (col==0 or col==6) or ((row+col==6) and row>=3) or ((row==col and row>=3)):\n",
    "            print(\"*\",end=\"\")\n",
    "        else:\n",
    "            print(end=\" \")           \n",
    "    print()  "
   ]
  },
  {
   "cell_type": "code",
   "execution_count": 57,
   "metadata": {},
   "outputs": [
    {
     "name": "stdout",
     "output_type": "stream",
     "text": [
      "*     *\n",
      " *   * \n",
      "  * *  \n",
      "   *   \n",
      "  * *  \n",
      " *   * \n",
      "*     *\n"
     ]
    }
   ],
   "source": [
    "#print X symbol\n",
    "for row in range(7):\n",
    "    for col in range(7):\n",
    "        if  ((row+col==6) or (row==col)):\n",
    "            print(\"*\",end=\"\")\n",
    "        else:\n",
    "            print(end=\" \")           \n",
    "    print()  "
   ]
  },
  {
   "cell_type": "code",
   "execution_count": 60,
   "metadata": {},
   "outputs": [
    {
     "name": "stdout",
     "output_type": "stream",
     "text": [
      "*     *\n",
      " *   * \n",
      "  * *  \n",
      "   *   \n",
      "   *   \n",
      "   *   \n",
      "   *   \n"
     ]
    }
   ],
   "source": [
    "#print Y symbol\n",
    "for row in range(7):\n",
    "    for col in range(7):\n",
    "        if  (col==3 and row>3) or ((row+col==6) and row<=3) or ((row==col and row<=3)):\n",
    "            print(\"*\",end=\"\")\n",
    "        else:\n",
    "            print(end=\" \")           \n",
    "    print()  "
   ]
  },
  {
   "cell_type": "code",
   "execution_count": 62,
   "metadata": {},
   "outputs": [
    {
     "name": "stdout",
     "output_type": "stream",
     "text": [
      "*******\n",
      "     * \n",
      "    *  \n",
      "   *   \n",
      "  *    \n",
      " *     \n",
      "*******\n"
     ]
    }
   ],
   "source": [
    "#print Z symbol\n",
    "for row in range(7):\n",
    "    for col in range(7):\n",
    "        if  (row==0 or row==6) or ((row+col==6)):\n",
    "            print(\"*\",end=\"\")\n",
    "        else:\n",
    "            print(end=\" \")           \n",
    "    print()  "
   ]
  }
 ],
 "metadata": {
  "kernelspec": {
   "display_name": "Python 3",
   "language": "python",
   "name": "python3"
  },
  "language_info": {
   "codemirror_mode": {
    "name": "ipython",
    "version": 3
   },
   "file_extension": ".py",
   "mimetype": "text/x-python",
   "name": "python",
   "nbconvert_exporter": "python",
   "pygments_lexer": "ipython3",
   "version": "3.7.1"
  }
 },
 "nbformat": 4,
 "nbformat_minor": 2
}
